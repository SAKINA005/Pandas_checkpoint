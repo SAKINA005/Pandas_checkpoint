{
 "cells": [
  {
   "cell_type": "markdown",
   "metadata": {},
   "source": [
    "Écrivez un programme Pandas pour créer et afficher un DataFrame à partir des données de dictionnaire suivantes avec des étiquettes d'index.\n",
    "\n",
    "exam_data = {'name': ['Anastasia', 'Dima', 'Katherine', 'James', 'Emily', 'Michael', 'Matthew', 'Laura', 'Kevin', 'Jonas'],\n",
    "\n",
    "'score': [12.5, 9, 16.5, np.nan, 9, 20, 14.5, np.nan, 8, 19],\n",
    "\n",
    "'attempts': [1, 3, 2, 3, 2, 3, 1, 1, 2, 1],\n",
    "\n",
    "'qualify': ['oui', 'non', 'oui', 'non', 'non', 'oui', 'oui', 'non', 'non', 'oui']}\n",
    "\n",
    "labels = ['a', 'b', 'c', 'd', 'e', 'f', 'g', 'h', 'i', 'j']\n",
    " \n",
    "\n",
    "\n"
   ]
  },
  {
   "cell_type": "code",
   "execution_count": 1,
   "metadata": {},
   "outputs": [
    {
     "name": "stdout",
     "output_type": "stream",
     "text": [
      "        name  score  attempts qualify\n",
      "a  Anastasia   12.5         1     oui\n",
      "b       Dima    9.0         3     non\n",
      "c  Katherine   16.5         2     oui\n",
      "d      James    NaN         3     non\n",
      "e      Emily    9.0         2     non\n",
      "f    Michael   20.0         3     oui\n",
      "g    Matthew   14.5         1     oui\n",
      "h      Laura    NaN         1     non\n",
      "i      Kevin    8.0         2     non\n",
      "j      Jonas   19.0         1     oui\n",
      "        name  score  attempts qualify  Succès\n",
      "a  Anastasia   12.5         1     oui       1\n",
      "b       Dima    9.0         3     non       0\n",
      "c  Katherine   16.5         2     oui       1\n",
      "d      James    NaN         3     non       0\n",
      "e      Emily    9.0         2     non       0\n",
      "f    Michael   20.0         3     oui       1\n",
      "g    Matthew   14.5         1     oui       1\n",
      "h      Laura    NaN         1     non       0\n",
      "i      Kevin    8.0         2     non       0\n",
      "j      Jonas   19.0         1     oui       1\n",
      "k     Suresh   15.5         1     oui       1\n"
     ]
    }
   ],
   "source": [
    "import numpy as np\n",
    "import pandas as pd\n",
    "labels= ['a', 'b', 'c', 'd', 'e', 'f', 'g', 'h', 'i', 'j']\n",
    "dict= {'name': ['Anastasia', 'Dima', 'Katherine', 'James', 'Emily', 'Michael', 'Matthew', 'Laura', 'Kevin', 'Jonas'],\n",
    "\n",
    "'score': [12.5, 9, 16.5, np.nan, 9, 20, 14.5, np.nan, 8, 19],\n",
    "\n",
    "'attempts': [1, 3, 2, 3, 2, 3, 1, 1, 2, 1],\n",
    "\n",
    "'qualify': ['oui', 'non', 'oui', 'non', 'non', 'oui', 'oui', 'non', 'non', 'oui']}\n",
    "\n",
    "\n",
    "my_dataframe=pd.DataFrame(dict,index=labels)\n",
    "print(my_dataframe)\n",
    " \n",
    "# Imprimez les trois premières lignes à l'aide de la méthode head().\n",
    "my_dataframe.head(3)\n",
    "#Supprimez les lignes contenant des valeurs NaN.\n",
    "my_dataframe.drop(['d','h'])\n",
    "#Extrayez les colonnes 'name' et 'score' du DataFrame.\n",
    "my_dataframe.iloc[:,0:2]\n",
    "#Écrivez un programme Pandas pour ajouter une nouvelle ligne 'k' au DataFrame avec les valeurs suivantes (nom : 'Suresh', score : 15,5, tentatives : 1, qualifier : 'oui').\n",
    "\n",
    "new_dict={'name' : 'Suresh', 'score' : 15.5, 'attempts' : 1, 'qualify' : 'oui'}\n",
    "new_data=pd.DataFrame(new_dict,index=['k'])\n",
    "my_dataframe_2=pd.concat([my_dataframe, new_data])\n",
    "my_dataframe_2\n",
    "#Écrivez un programme Pandas pour supprimer la colonne 'attempts' du DataFrame.\n",
    "my_dataframe_2.drop(columns=['attempts'])\n",
    " #Ajoutez une nouvelle colonne 'Succès' : si le score est supérieur à 10, nous aurons 1, sinon 0.\n",
    "my_dataframe_2['Succès']=(my_dataframe_2['score']>=10).astype(int)\n",
    "print(my_dataframe_2)\n",
    " ## Sans la methode astype(int), ce code aurait retourne un booleen cad True or False a la place du 1 ou 0\n",
    " \n",
    "#Après avoir exécuté le DataFrame final, exportez-le dans un fichier CSV nommé 'my_data'.\n",
    "my_dataframe_2.to_csv('my_dataframe.csv')\n",
    "my_data=pd.read_csv('my_dataframe.csv')\n",
    "\n",
    " \n",
    "\n",
    " \n",
    "\n"
   ]
  }
 ],
 "metadata": {
  "kernelspec": {
   "display_name": "Python 3",
   "language": "python",
   "name": "python3"
  },
  "language_info": {
   "codemirror_mode": {
    "name": "ipython",
    "version": 3
   },
   "file_extension": ".py",
   "mimetype": "text/x-python",
   "name": "python",
   "nbconvert_exporter": "python",
   "pygments_lexer": "ipython3",
   "version": "3.11.9"
  }
 },
 "nbformat": 4,
 "nbformat_minor": 2
}
